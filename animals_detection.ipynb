{
  "nbformat": 4,
  "nbformat_minor": 0,
  "metadata": {
    "colab": {
      "provenance": [],
      "gpuType": "T4"
    },
    "kernelspec": {
      "name": "python3",
      "display_name": "Python 3"
    },
    "language_info": {
      "name": "python"
    },
    "accelerator": "GPU"
  },
  "cells": [
    {
      "cell_type": "code",
      "execution_count": null,
      "metadata": {
        "id": "wlecKaI1vCYA"
      },
      "outputs": [],
      "source": [
        "from tensorflow.keras.models import Sequential\n",
        "from tensorflow.keras.layers import Conv2D, MaxPooling2D, Flatten, Dense\n",
        "from tensorflow.keras.datasets import cifar10\n",
        "from tensorflow.keras.optimizers import Adam\n",
        "from tensorflow.keras.losses import categorical_crossentropy\n",
        "from tensorflow.keras.utils import to_categorical\n",
        "import matplotlib.pyplot as plt"
      ]
    },
    {
      "cell_type": "code",
      "source": [
        "(x_train, y_train) ,(x_test, y_test) = cifar10.load_data()"
      ],
      "metadata": {
        "id": "9rsYDYEUAV7j",
        "colab": {
          "base_uri": "https://localhost:8080/"
        },
        "outputId": "6c7e185f-8547-4f8f-a257-d53eebd1ef3c"
      },
      "execution_count": null,
      "outputs": [
        {
          "output_type": "stream",
          "name": "stdout",
          "text": [
            "Downloading data from https://www.cs.toronto.edu/~kriz/cifar-10-python.tar.gz\n",
            "170498071/170498071 [==============================] - 4s 0us/step\n"
          ]
        }
      ]
    },
    {
      "cell_type": "code",
      "source": [
        "x_train.shape"
      ],
      "metadata": {
        "id": "QKPH0FInAiM4",
        "colab": {
          "base_uri": "https://localhost:8080/"
        },
        "outputId": "871af9ba-a7cb-4551-f510-0019982e9df3"
      },
      "execution_count": null,
      "outputs": [
        {
          "output_type": "execute_result",
          "data": {
            "text/plain": [
              "(50000, 32, 32, 3)"
            ]
          },
          "metadata": {},
          "execution_count": 4
        }
      ]
    },
    {
      "cell_type": "code",
      "source": [
        "y_train.shape"
      ],
      "metadata": {
        "id": "R87sWsi4Bmh4",
        "colab": {
          "base_uri": "https://localhost:8080/"
        },
        "outputId": "83d0ff52-0758-43b8-fe99-8a9f534b82bb"
      },
      "execution_count": null,
      "outputs": [
        {
          "output_type": "execute_result",
          "data": {
            "text/plain": [
              "(50000, 1)"
            ]
          },
          "metadata": {},
          "execution_count": 5
        }
      ]
    },
    {
      "cell_type": "code",
      "source": [
        "x_test.shape # kendisi test için 10k ayırmış"
      ],
      "metadata": {
        "id": "BlZm49zLBpA9",
        "colab": {
          "base_uri": "https://localhost:8080/"
        },
        "outputId": "012d2202-acee-4818-a8c8-eebba0e47025"
      },
      "execution_count": null,
      "outputs": [
        {
          "output_type": "execute_result",
          "data": {
            "text/plain": [
              "(10000, 32, 32, 3)"
            ]
          },
          "metadata": {},
          "execution_count": 6
        }
      ]
    },
    {
      "cell_type": "code",
      "source": [
        "classes = [\"airplane\",\"automobile\",\"bird\",\"cat\",\"deer\",\"dog\",\"frog\",\"horse\",\"ship\",\"truck\"]"
      ],
      "metadata": {
        "id": "GdvYc_fWBrd0"
      },
      "execution_count": null,
      "outputs": []
    },
    {
      "cell_type": "code",
      "source": [
        "classes[4]"
      ],
      "metadata": {
        "id": "58nKe1L_C4Tv",
        "colab": {
          "base_uri": "https://localhost:8080/",
          "height": 35
        },
        "outputId": "61997a19-9fb6-4902-de2a-ebb5403fd88a"
      },
      "execution_count": null,
      "outputs": [
        {
          "output_type": "execute_result",
          "data": {
            "text/plain": [
              "'deer'"
            ],
            "application/vnd.google.colaboratory.intrinsic+json": {
              "type": "string"
            }
          },
          "metadata": {},
          "execution_count": 8
        }
      ]
    },
    {
      "cell_type": "code",
      "source": [
        "index = 900\n",
        "plt.imshow(x_train[index], vmin = 32, vmax = 32)\n",
        "print(classes[int(y_train[index])])  # y_train içindeki 900 index'li"
      ],
      "metadata": {
        "id": "eqr0xr81C6h_"
      },
      "execution_count": null,
      "outputs": []
    },
    {
      "cell_type": "code",
      "source": [
        "index = 800\n",
        "plt.imshow(x_train[index], vmin=32, vmax=32) # vmin ve vmax resimin boyutunu belirliyor\n",
        "print(classes[int(y_train[index])])"
      ],
      "metadata": {
        "id": "_rveTuNmJZ6e"
      },
      "execution_count": null,
      "outputs": []
    },
    {
      "cell_type": "code",
      "source": [
        "print(x_train.dtype)"
      ],
      "metadata": {
        "id": "_2jtUA0wJvJa",
        "colab": {
          "base_uri": "https://localhost:8080/"
        },
        "outputId": "d963f497-5d7b-453a-8f54-054ac1765852"
      },
      "execution_count": null,
      "outputs": [
        {
          "output_type": "stream",
          "name": "stdout",
          "text": [
            "uint8\n"
          ]
        }
      ]
    },
    {
      "cell_type": "code",
      "source": [
        "x_train = x_train.astype(\"float32\") # daha iyi bir sonuç alabilmek için float32 yaptık\n",
        "x_test = x_test.astype(\"float32\")  # astype tipini değiştiriyor"
      ],
      "metadata": {
        "id": "8PpGSNYTJ5qH"
      },
      "execution_count": null,
      "outputs": []
    },
    {
      "cell_type": "code",
      "source": [
        "print(x_train.dtype)"
      ],
      "metadata": {
        "id": "Jl0ClQjqKCFi",
        "colab": {
          "base_uri": "https://localhost:8080/"
        },
        "outputId": "1eb8e5d4-27f3-4011-a362-a5c6a50f470f"
      },
      "execution_count": null,
      "outputs": [
        {
          "output_type": "stream",
          "name": "stdout",
          "text": [
            "float32\n"
          ]
        }
      ]
    },
    {
      "cell_type": "code",
      "source": [
        "x_train"
      ],
      "metadata": {
        "id": "qUlhVX6QRw-I"
      },
      "execution_count": null,
      "outputs": []
    },
    {
      "cell_type": "code",
      "source": [
        "x_train /= 255\n",
        "x_test /= 255  # resmimizin piksel değerlerini 0-1 arasına getirdik"
      ],
      "metadata": {
        "id": "XHUB6p8OKaBV"
      },
      "execution_count": null,
      "outputs": []
    },
    {
      "cell_type": "code",
      "source": [
        "x_train[8] # kontrol ettik 0-1 arasında olmuş mu diye"
      ],
      "metadata": {
        "id": "3hMgB3sNKboV"
      },
      "execution_count": null,
      "outputs": []
    },
    {
      "cell_type": "code",
      "source": [
        "x_train.shape # shape 4 oldugu  için değiştirmedik. zaten 4 olması gerekiyordu"
      ],
      "metadata": {
        "id": "cLavM5ruKi3B",
        "colab": {
          "base_uri": "https://localhost:8080/"
        },
        "outputId": "e5eaf77d-13ee-43a4-d81f-737beb5c8dea"
      },
      "execution_count": null,
      "outputs": [
        {
          "output_type": "execute_result",
          "data": {
            "text/plain": [
              "(50000, 32, 32, 3)"
            ]
          },
          "metadata": {},
          "execution_count": 16
        }
      ]
    },
    {
      "cell_type": "code",
      "source": [
        "y_train = to_categorical(y_train)\n",
        "y_test = to_categorical(y_test)"
      ],
      "metadata": {
        "id": "Vf6Q9Ng-PTSE"
      },
      "execution_count": null,
      "outputs": []
    },
    {
      "cell_type": "code",
      "source": [
        "my_model = Sequential()  # katmanlar arasında verimiz soldan sağa doğru akıyor\n",
        "my_model.add(Conv2D(filters=32, kernel_size=(3,3), padding=\"same\", activation=\"relu\", input_shape=(32,32,3)))\n",
        "my_model.add(Conv2D(filters=64, kernel_size=(3,3), activation=\"relu\",))\n",
        "my_model.add(MaxPooling2D(pool_size=(2,2)))\n",
        "my_model.add(Flatten()) #kendine gelen çokboyutlu veriyi vektöre indigiyor. tek boyutlu yapıyor\n",
        "my_model.add(Dense(64, activation=\"relu\")) # hangi activation fonksiyonunu verirsek o fonksiyonları yerine getiriyor onun dışında başka bir işlem yapmıyor. 64 ise nöron sayısını belirtir.\n",
        "my_model.add(Dense(10, activation=\"softmax\")) # 10 tane nokta var yani nöron var son katmanda, her nöron atıyorum %20 çıktı 1. nöron için %20 çıktıysa airplane için %20 ihtimal vermiş\n",
        "# softmax bütün çıktıların toplamını 0-1 arasına sıkıştırıyor. Benim anladığım kadarıyla herbir çıktı nöronuna yüzde ihitmal veriyor yani %20 ihtimaldir falan filan"
      ],
      "metadata": {
        "id": "sHmh3y4pKkrF"
      },
      "execution_count": null,
      "outputs": []
    },
    {
      "cell_type": "code",
      "source": [
        "my_model.summary()"
      ],
      "metadata": {
        "id": "mJFK-fqYMNlP"
      },
      "execution_count": null,
      "outputs": []
    },
    {
      "cell_type": "code",
      "source": [
        "from keras.utils import plot_model\n",
        "plot_model(my_model)"
      ],
      "metadata": {
        "id": "HwWcpt7WMQy6"
      },
      "execution_count": null,
      "outputs": []
    },
    {
      "cell_type": "code",
      "source": [
        "my_model.compile(loss=\"categorical_crossentropy\", # hatasını nasıl ölçsün hangi hata fonksiyonunu kullanarak hatasını ölçsün o da categorical_crossentropy ile ölçsün\n",
        "                 optimizer=Adam(), # Adama optimizerine göre kendini iyileştirsin\n",
        "                 metrics=[\"accuracy\"]) # kendi performansını nasıl baksın. accuracy metrics'i ile baksın. accuracy'im %20 desin ve %20 performans yüklesin(desin). sonrada bu hatayı ölçme yöntemin olsun. accuracy cinsinden vericek\n",
        "                 # bu hatayı. bu hatayı ne ile ölçsün categorical_crossentropy ile ölçsün. Adam optimizer ile de düzeltsin\n",
        "                 # accuracy'ye göre performansımı değerlendiricem. loss fonkisyonu ile hatamı ölçüyorum. Adam fonksiyonu ile de hatamı iyileştiriyorum.\n",
        "                 # bu sürekli yakınsayana kadar devam ediyor."
      ],
      "metadata": {
        "id": "o_J1X0MsMbIz"
      },
      "execution_count": null,
      "outputs": []
    },
    {
      "cell_type": "code",
      "source": [
        "from tensorflow.keras.preprocessing.image import ImageDataGenerator"
      ],
      "metadata": {
        "id": "IT31zg6BctBe"
      },
      "execution_count": null,
      "outputs": []
    },
    {
      "cell_type": "code",
      "source": [
        "?ImageDataGenerator"
      ],
      "metadata": {
        "id": "7TLcDYcrdpbv"
      },
      "execution_count": null,
      "outputs": []
    },
    {
      "cell_type": "code",
      "source": [
        "data_generator = ImageDataGenerator(\n",
        "    rotation_range = 360, # resimleri 40 dereceye kadar çeviripçevirip alıyor --- en yüksek accuracy 360 derecede çıktı\n",
        "    width_shift_range = 1,\n",
        "    height_shift_range = 1,\n",
        "    shear_range = 1,\n",
        "    zoom_range = 1,\n",
        "    horizontal_flip = True,\n",
        "    fill_mode = \"nearest\"\n",
        ")"
      ],
      "metadata": {
        "id": "LwlT8QEgelgS"
      },
      "execution_count": null,
      "outputs": []
    },
    {
      "cell_type": "code",
      "source": [
        "history = my_model.fit(x_train, y_train,\n",
        "batch_size=5096, # genelde 2 nin üsleri şeklinde verilir --- yaptığım denemelere göre 256 dan yüksek 5096 dan küçük olsa daha iyi sonuçlara verecek\n",
        "epochs=30, # verilerin kaç defa dönüyor. modeli bir kere dolaştığında epochs 1 olur --- yaptığım deneylere göre epochs'un yüksek olması accuracy'nin artmasını sağlıyor.\n",
        "verbose=1, # verbose nasıl çıktı ile sunulur veriler bunu göster\n",
        "validation_split=0.2)"
      ],
      "metadata": {
        "id": "yJpqv22mMzIy"
      },
      "execution_count": null,
      "outputs": []
    },
    {
      "cell_type": "code",
      "source": [
        "score = my_model.evaluate(x_test, y_test, verbose=1)\n",
        "print(\"test loss:\",score[0])\n",
        "print(\"test accuracy:\",score[1])"
      ],
      "metadata": {
        "colab": {
          "base_uri": "https://localhost:8080/"
        },
        "id": "nTLKwvpONngg",
        "outputId": "d569ef78-5dd3-4273-b58d-9e35db752a35"
      },
      "execution_count": null,
      "outputs": [
        {
          "output_type": "stream",
          "name": "stdout",
          "text": [
            "313/313 [==============================] - 1s 4ms/step - loss: 1.1365 - accuracy: 0.6421\n",
            "test loss: 1.1365267038345337\n",
            "test accuracy: 0.6420999765396118\n"
          ]
        }
      ]
    },
    {
      "cell_type": "code",
      "source": [
        "my_model.save(\"animals_detection_model_6625.h5\")"
      ],
      "metadata": {
        "id": "kcudgZPscpbm",
        "colab": {
          "base_uri": "https://localhost:8080/"
        },
        "outputId": "f49de878-72c1-48f8-f375-56e2d040785a"
      },
      "execution_count": null,
      "outputs": [
        {
          "output_type": "stream",
          "name": "stderr",
          "text": [
            "/usr/local/lib/python3.10/dist-packages/keras/src/engine/training.py:3103: UserWarning: You are saving your model as an HDF5 file via `model.save()`. This file format is considered legacy. We recommend using instead the native Keras format, e.g. `model.save('my_model.keras')`.\n",
            "  saving_api.save_model(\n"
          ]
        }
      ]
    },
    {
      "cell_type": "code",
      "source": [
        "!wget -O test_cifar_gemi.jpg https://khosann.com/wp-content/uploads/2017/12/yük_gemisi-elektrikli-elektrikli_gemi-çin-guangzhou.jpg\n",
        "!wget -O test_cifar_ucak.jpg https://www.airlineratings.com/wp-content/uploads/uploads/B797.jpg"
      ],
      "metadata": {
        "id": "JYBrqdPxpahD"
      },
      "execution_count": null,
      "outputs": []
    },
    {
      "cell_type": "code",
      "source": [
        "from tensorflow.keras.models import load_model\n",
        "from tensorflow.keras.preprocessing.image import load_img, img_to_array\n",
        "import numpy as np"
      ],
      "metadata": {
        "id": "rbK5EtVnpyED"
      },
      "execution_count": null,
      "outputs": []
    },
    {
      "cell_type": "code",
      "source": [
        "my_model = load_model(\"animals_detection_model_6625.h5\")"
      ],
      "metadata": {
        "id": "Rsjf5uzLqCwN"
      },
      "execution_count": null,
      "outputs": []
    },
    {
      "cell_type": "code",
      "source": [
        "image = load_img(\"att.webp\", target_size=(32,32))\n",
        "image = img_to_array(image) / 255\n",
        "image = np.expand_dims(image, axis=0)\n",
        "print(\"shape:\",image.shape)"
      ],
      "metadata": {
        "colab": {
          "base_uri": "https://localhost:8080/"
        },
        "id": "q9LP44rcqNvN",
        "outputId": "9c933d13-bf00-48ac-e041-9d57512b707c"
      },
      "execution_count": null,
      "outputs": [
        {
          "output_type": "stream",
          "name": "stdout",
          "text": [
            "shape: (1, 32, 32, 3)\n"
          ]
        }
      ]
    },
    {
      "cell_type": "code",
      "source": [
        "preds = my_model.predict(image)"
      ],
      "metadata": {
        "colab": {
          "base_uri": "https://localhost:8080/"
        },
        "id": "H_RuoNu-qfdj",
        "outputId": "8ba2488e-1e5d-4fbb-adba-135ec4115c08"
      },
      "execution_count": null,
      "outputs": [
        {
          "output_type": "stream",
          "name": "stdout",
          "text": [
            "1/1 [==============================] - 0s 18ms/step\n"
          ]
        }
      ]
    },
    {
      "cell_type": "code",
      "source": [
        "preds"
      ],
      "metadata": {
        "colab": {
          "base_uri": "https://localhost:8080/"
        },
        "id": "Qdu2jJrirOfv",
        "outputId": "9b8dd4cc-d536-422a-ea94-511dcafbcd68"
      },
      "execution_count": null,
      "outputs": [
        {
          "output_type": "execute_result",
          "data": {
            "text/plain": [
              "array([[6.40180311e-04, 6.81096688e-04, 9.83911008e-02, 3.43790352e-01,\n",
              "        1.21408515e-01, 2.25280017e-01, 1.66904852e-01, 3.87216695e-02,\n",
              "        1.10961417e-04, 4.07124404e-03]], dtype=float32)"
            ]
          },
          "metadata": {},
          "execution_count": 93
        }
      ]
    },
    {
      "cell_type": "code",
      "source": [
        "preds.argmax()"
      ],
      "metadata": {
        "colab": {
          "base_uri": "https://localhost:8080/"
        },
        "id": "1EK5RXZjrrt7",
        "outputId": "7dc01b6b-efaf-48b5-e918-1b15235d968b"
      },
      "execution_count": null,
      "outputs": [
        {
          "output_type": "execute_result",
          "data": {
            "text/plain": [
              "3"
            ]
          },
          "metadata": {},
          "execution_count": 94
        }
      ]
    },
    {
      "cell_type": "code",
      "source": [
        "classes[3]"
      ],
      "metadata": {
        "colab": {
          "base_uri": "https://localhost:8080/",
          "height": 35
        },
        "id": "RrmBt4rortTg",
        "outputId": "12b33daf-7671-4087-b2dd-3b5d0f470e1b"
      },
      "execution_count": null,
      "outputs": [
        {
          "output_type": "execute_result",
          "data": {
            "text/plain": [
              "'cat'"
            ],
            "application/vnd.google.colaboratory.intrinsic+json": {
              "type": "string"
            }
          },
          "metadata": {},
          "execution_count": 95
        }
      ]
    },
    {
      "cell_type": "code",
      "source": [
        "# imagedatagenerator'ı oluşturucaz, kurallar belirlicez ve bu kurallar nezdinde de resimlerimiz çoklanacak ve bu  sayede daha fazla veriye erişmiş olacağız."
      ],
      "metadata": {
        "id": "3ocjRF4Tbzrp"
      },
      "execution_count": null,
      "outputs": []
    }
  ]
}